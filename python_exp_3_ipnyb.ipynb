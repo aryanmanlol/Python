{
  "nbformat": 4,
  "nbformat_minor": 0,
  "metadata": {
    "colab": {
      "provenance": [],
      "authorship_tag": "ABX9TyMfnhVMyVzxY+zZi8Te4ZaL",
      "include_colab_link": true
    },
    "kernelspec": {
      "name": "python3",
      "display_name": "Python 3"
    },
    "language_info": {
      "name": "python"
    }
  },
  "cells": [
    {
      "cell_type": "markdown",
      "metadata": {
        "id": "view-in-github",
        "colab_type": "text"
      },
      "source": [
        "<a href=\"https://colab.research.google.com/github/aryanmanlol/Python/blob/main/python_exp_3_ipnyb.ipynb\" target=\"_parent\"><img src=\"https://colab.research.google.com/assets/colab-badge.svg\" alt=\"Open In Colab\"/></a>"
      ]
    },
    {
      "cell_type": "code",
      "execution_count": null,
      "metadata": {
        "colab": {
          "base_uri": "https://localhost:8080/"
        },
        "id": "zkpysgps1-oi",
        "outputId": "e7aabe00-3272-44db-a9c0-47dc010660c9"
      },
      "outputs": [
        {
          "output_type": "stream",
          "name": "stdout",
          "text": [
            "enter a number: 7\n",
            "sum of  7  natural numbers is\n",
            "28\n"
          ]
        }
      ],
      "source": [
        "#q1\n",
        "\n",
        "n=int(input(\"enter a number: \"))\n",
        "sum=0\n",
        "print(\"sum of \",n,\" natural numbers is\")\n",
        "for i in range(1,n+1):\n",
        "    sum+=i\n",
        "\n",
        "print(sum)\n"
      ]
    },
    {
      "cell_type": "code",
      "source": [
        "#q2\n",
        "\n",
        "p=int(input(\"enter the starting number: \"))\n",
        "q=int(input(\"enter the last number: \"))\n",
        "even,odd=0,0\n",
        "for i in range(p,q+1):\n",
        "    if i%2==0:\n",
        "        even+=1\n",
        "    else:\n",
        "        odd+=1\n",
        "print(\"even number count: \",even)\n",
        "print(\"odd number count: \",odd)\n"
      ],
      "metadata": {
        "colab": {
          "base_uri": "https://localhost:8080/"
        },
        "id": "oqh-CcwP3qeI",
        "outputId": "00eab862-6290-465d-8353-b548dd036682"
      },
      "execution_count": null,
      "outputs": [
        {
          "output_type": "stream",
          "name": "stdout",
          "text": [
            "enter the starting number: 6\n",
            "enter the last number: 8\n",
            "even number count:  2\n",
            "odd number count:  1\n"
          ]
        }
      ]
    },
    {
      "cell_type": "code",
      "source": [
        "#q3\n",
        "\n",
        "n=int(input(\"enter a number to check: \"))\n",
        "for i in range(2,n):\n",
        "    if n%i==0:\n",
        "        print(n,\"is not a prime number\")\n",
        "        break\n",
        "    if i==n-1:\n",
        "        print(n,\"is a prime number\")\n"
      ],
      "metadata": {
        "colab": {
          "base_uri": "https://localhost:8080/"
        },
        "id": "ND6zdjoo4C4n",
        "outputId": "0d9b2ed1-3bbf-4c6e-f20d-9ac788106861"
      },
      "execution_count": null,
      "outputs": [
        {
          "output_type": "stream",
          "name": "stdout",
          "text": [
            "enter a number to check: 7\n",
            "7 is a prime number\n"
          ]
        }
      ]
    },
    {
      "cell_type": "code",
      "source": [
        "#q4\n",
        "\n",
        "terms=int(input(\"enter no. of terms\"))\n",
        "f1,f2=0,1\n",
        "print(\"series\",f1,\" \",f2,\" \",end=\" \")\n",
        "i=1\n",
        "while i<=terms-2:\n",
        "   f3=f1+f2\n",
        "   print(f3,end=\" \")\n",
        "   f1=f2\n",
        "   f2=f3\n",
        "   i+=1"
      ],
      "metadata": {
        "colab": {
          "base_uri": "https://localhost:8080/"
        },
        "id": "YvPwLkNa6iqY",
        "outputId": "f08cf3e5-519a-4ee2-daac-d4b220a6fa37"
      },
      "execution_count": null,
      "outputs": [
        {
          "output_type": "stream",
          "name": "stdout",
          "text": [
            "enter no. of terms5\n",
            "series 0   1   1 2 3 "
          ]
        }
      ]
    },
    {
      "cell_type": "code",
      "source": [
        "#q5\n",
        "\n",
        "for i in range(1,4):\n",
        "  for k in range(3,i,-1):\n",
        "      print(\" \",end=\" \")\n",
        "  for j in range(1,2*i):\n",
        "      print(\"*\",end=\" \")\n",
        "  print()"
      ],
      "metadata": {
        "colab": {
          "base_uri": "https://localhost:8080/"
        },
        "id": "CZ49iCw64Jwp",
        "outputId": "10c67996-084e-40ad-b68f-10936c24a3fd"
      },
      "execution_count": null,
      "outputs": [
        {
          "output_type": "stream",
          "name": "stdout",
          "text": [
            "    * \n",
            "  * * * \n",
            "* * * * * \n"
          ]
        }
      ]
    },
    {
      "cell_type": "code",
      "source": [
        "#6\n",
        "\n",
        "\n",
        "\n",
        "s=\"ranbir\"\n",
        "i=0\n",
        "while i<len(s):\n",
        "  print(s[i])\n",
        "  i+=1"
      ],
      "metadata": {
        "colab": {
          "base_uri": "https://localhost:8080/"
        },
        "id": "p40Oh3S_9is3",
        "outputId": "249d307e-8871-4856-c76a-8969cb1f7510"
      },
      "execution_count": null,
      "outputs": [
        {
          "output_type": "stream",
          "name": "stdout",
          "text": [
            "r\n",
            "a\n",
            "n\n",
            "b\n",
            "i\n",
            "r\n"
          ]
        }
      ]
    },
    {
      "cell_type": "code",
      "source": [
        "#q7\n",
        "\n",
        "\n",
        "for i in range(1,10):\n",
        "    if i==4:\n",
        "        continue\n",
        "\n",
        "print(i)"
      ],
      "metadata": {
        "colab": {
          "base_uri": "https://localhost:8080/"
        },
        "id": "WS9qnL6I91vW",
        "outputId": "e410416b-287f-4031-fab2-9820d4843cf2"
      },
      "execution_count": null,
      "outputs": [
        {
          "output_type": "stream",
          "name": "stdout",
          "text": [
            "9\n"
          ]
        }
      ]
    },
    {
      "cell_type": "code",
      "source": [
        "#q8\n",
        "\n",
        "\n",
        "s1=\"hello \"\n",
        "s2=\"world\"\n",
        "#string concatenation:\n",
        "s3=s1+s2\n",
        "print(\"concatenated string: \",s3)\n",
        "#string length\n",
        "print(\"length of concatenated string: \",len(s3))\n",
        "#split\n",
        "words=s3.split()\n",
        "print(\"words in the string are: \",words)\n",
        "#count\n",
        "c=s3.count(\"l\")\n",
        "print(\"count of l in string: \",c)\n"
      ],
      "metadata": {
        "id": "kcHagAc0-Xz_",
        "colab": {
          "base_uri": "https://localhost:8080/"
        },
        "outputId": "acd7e426-30dc-48fd-f055-88d7893190cd"
      },
      "execution_count": null,
      "outputs": [
        {
          "output_type": "stream",
          "name": "stdout",
          "text": [
            "concatenated string:  hello world\n",
            "length of concatenated string:  11\n",
            "words in the string are:  ['hello', 'world']\n",
            "count of l in string:  3\n"
          ]
        }
      ]
    },
    {
      "cell_type": "code",
      "source": [
        "#q9\n",
        "\n",
        "\n",
        "print(\"even numbers are: \")\n",
        "for i in range(1,10):\n",
        "  if i%2!=0:\n",
        "   continue\n",
        "  else:\n",
        "    print(i)"
      ],
      "metadata": {
        "colab": {
          "base_uri": "https://localhost:8080/"
        },
        "id": "jfAP9txBCCOP",
        "outputId": "19771df2-05a1-4993-a743-ddfe8e6d86d2"
      },
      "execution_count": null,
      "outputs": [
        {
          "output_type": "stream",
          "name": "stdout",
          "text": [
            "even numbers are: \n",
            "2\n",
            "4\n",
            "6\n",
            "8\n"
          ]
        }
      ]
    },
    {
      "cell_type": "code",
      "source": [
        " #q10\n",
        "\n",
        "\n",
        " for i in range(5):\n",
        "  pass\n",
        " else:\n",
        "    print(\"nothing to print\")"
      ],
      "metadata": {
        "colab": {
          "base_uri": "https://localhost:8080/"
        },
        "id": "WJUH9-WxC9YT",
        "outputId": "a5d823d8-e2b3-4d1a-8fe5-f1edeaf14bc9"
      },
      "execution_count": null,
      "outputs": [
        {
          "output_type": "stream",
          "name": "stdout",
          "text": [
            "nothing to print\n"
          ]
        }
      ]
    }
  ]
}